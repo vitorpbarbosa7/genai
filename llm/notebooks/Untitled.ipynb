{
 "cells": [
  {
   "cell_type": "code",
   "execution_count": 1,
   "id": "fb6faa75-6006-413d-9b41-d86af032e3ed",
   "metadata": {},
   "outputs": [],
   "source": [
    "import torch\n",
    "import os\n",
    "import getpass"
   ]
  },
  {
   "cell_type": "code",
   "execution_count": 2,
   "id": "5412393e-4e04-4a0d-8b4c-63c4aed24d15",
   "metadata": {},
   "outputs": [
    {
     "name": "stderr",
     "output_type": "stream",
     "text": [
      "/Users/vpb/.venvs/llm/lib/python3.9/site-packages/urllib3/__init__.py:35: NotOpenSSLWarning: urllib3 v2 only supports OpenSSL 1.1.1+, currently the 'ssl' module is compiled with 'LibreSSL 2.8.3'. See: https://github.com/urllib3/urllib3/issues/3020\n",
      "  warnings.warn(\n",
      "/Users/vpb/.venvs/llm/lib/python3.9/site-packages/tqdm/auto.py:21: TqdmWarning: IProgress not found. Please update jupyter and ipywidgets. See https://ipywidgets.readthedocs.io/en/stable/user_install.html\n",
      "  from .autonotebook import tqdm as notebook_tqdm\n"
     ]
    }
   ],
   "source": [
    "from transformers import AutoModelForCausalLM, AutoTokenizer, pipeline, BitsAndBytesConfig\n",
    "from langchain_huggingface import HuggingFacePipeline"
   ]
  },
  {
   "cell_type": "code",
   "execution_count": 3,
   "id": "b345011e-a8b4-4b89-8d12-bad771f95e5c",
   "metadata": {},
   "outputs": [],
   "source": [
    "# Template para prompts simples (não chat), com placeholders tipo {variavel} para preencher dinamicamente.\n",
    "from langchain.prompts import PromptTemplate  \n",
    "\n",
    "# Template específico para conversas (chat), já estrutura os papéis: system, user, assistant.\n",
    "# Template de mensagens do tipo \"user\". Serve para inserir prompts de humanos dentro do fluxo do chat.\n",
    "# Placeholder que permite inserir dinamicamente mensagens (ex.: histórico de memória) no meio do prompt.\n",
    "from langchain_core.prompts import (\n",
    "    ChatPromptTemplate,           \n",
    "    HumanMessagePromptTemplate,   \n",
    "    MessagesPlaceholder,          \n",
    ")\n",
    "\n",
    "# Objeto que representa uma mensagem do tipo \"system\". Usado para definir comportamento e contexto do assistente.\n",
    "from langchain_core.messages import SystemMessage  \n",
    "\n",
    "# Parser que converte a saída bruta do modelo em uma string limpa e pronta pra usar.\n",
    "from langchain_core.output_parsers import StrOutputParser  \n",
    "\n",
    "# Pipeline que simplesmente passa o input pra frente sem alteração. Útil como placeholder, debug, ou pipelines intermediários.\n",
    "from langchain_core.runnables import RunnablePassthrough  \n"
   ]
  },
  {
   "cell_type": "code",
   "execution_count": null,
   "id": "466d8a03-8e1c-4db2-b482-584416ad6d2d",
   "metadata": {},
   "outputs": [],
   "source": []
  }
 ],
 "metadata": {
  "kernelspec": {
   "display_name": "llm",
   "language": "python",
   "name": "llm"
  },
  "language_info": {
   "codemirror_mode": {
    "name": "ipython",
    "version": 3
   },
   "file_extension": ".py",
   "mimetype": "text/x-python",
   "name": "python",
   "nbconvert_exporter": "python",
   "pygments_lexer": "ipython3",
   "version": "3.9.6"
  }
 },
 "nbformat": 4,
 "nbformat_minor": 5
}
