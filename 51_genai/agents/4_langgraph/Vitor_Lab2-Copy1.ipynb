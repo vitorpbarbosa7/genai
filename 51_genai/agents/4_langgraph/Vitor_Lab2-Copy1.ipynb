{
 "cells": [
  {
   "cell_type": "code",
   "execution_count": 60,
   "metadata": {},
   "outputs": [],
   "source": [
    "from typing import Annotated, TypedDict, List\n",
    "import os\n",
    "import requests\n",
    "from langgraph.graph import StateGraph, START, END\n",
    "from langgraph.graph.message import add_messages\n",
    "from langchain_openai import ChatOpenAI\n",
    "from dotenv import load_dotenv\n",
    "import gradio as gr\n",
    "import traceback\n",
    "\n",
    "# === Load env ===\n",
    "load_dotenv(override=True)\n",
    "\n",
    "pushover_token = os.getenv(\"PUSHOVER_TOKEN\")\n",
    "pushover_user = os.getenv(\"PUSHOVER_USER\")\n",
    "pushover_url = \"https://api.pushover.net/1/messages.json\"\n",
    "\n",
    "def push_tool(msg: str) -> str:\n",
    "    try:\n",
    "        requests.post(pushover_url, data={\"token\": pushover_token, \"user\": pushover_user, \"message\": msg})\n",
    "        return \"✅ Push notification sent.\"\n",
    "    except Exception as e:\n",
    "        return f\"❌ Failed to send push: {str(e)}\"\n",
    "\n",
    "# === State ===\n",
    "class State(TypedDict):\n",
    "    messages: Annotated[List[dict], add_messages]\n",
    "    intent: str\n",
    "    push_text: str\n",
    "\n",
    "# === LLM ===\n",
    "llm = ChatOpenAI(\n",
    "    model=\"mistralai/mixtral-8x7b-instruct\",\n",
    "    base_url=\"https://openrouter.ai/api/v1\",\n",
    "    api_key=os.getenv(\"ROUTER_API_KEY\"),\n",
    ")\n",
    "\n",
    "# === Nodes ===\n",
    "def llm_node(state: State) -> State:\n",
    "    system_prompt = {\n",
    "        \"role\": \"system\",\n",
    "        \"content\": (\n",
    "            \"You are a helpful assistant. If the user wants you to send a push notification, \"\n",
    "            \"extract the exact message they want to send and reply ONLY with that message. \"\n",
    "            \"Otherwise, respond normally.\"\n",
    "        )\n",
    "    }\n",
    "    messages = [system_prompt] + state[\"messages\"]\n",
    "    response = llm.invoke(messages)\n",
    "\n",
    "    # Store response as dict\n",
    "    state[\"messages\"].append({\"role\": \"assistant\", \"content\": response.content})\n",
    "\n",
    "    # Check if user asked to push\n",
    "    last_user_msg = state[\"messages\"][-2][\"content\"].lower()\n",
    "    if \"push\" in last_user_msg or \"notifica\" in last_user_msg:\n",
    "        state[\"intent\"] = \"push\"\n",
    "        state[\"push_text\"] = response.content.strip()\n",
    "    else:\n",
    "        state[\"intent\"] = \"end\"\n",
    "    return state\n",
    "\n",
    "def push_node(state: State) -> State:\n",
    "    result = push_tool(state[\"push_text\"])\n",
    "    state[\"messages\"].append({\"role\": \"tool\", \"name\": \"send_push_notification\", \"content\": result})\n",
    "    return state\n",
    "\n",
    "def router(state: State) -> str:\n",
    "    return state[\"intent\"]\n",
    "\n",
    "# === Graph ===\n",
    "graph_builder = StateGraph(State)\n",
    "graph_builder.add_node(\"llm\", llm_node)\n",
    "graph_builder.add_node(\"push\", push_node)\n",
    "graph_builder.add_node(\"router\", router)\n",
    "\n",
    "graph_builder.set_entry_point(\"llm\")\n",
    "graph_builder.add_edge(\"llm\", \"router\")\n",
    "graph_builder.add_conditional_edges(\"router\", router, {\n",
    "    \"push\": \"push\",\n",
    "    \"end\": END\n",
    "})\n",
    "graph_builder.add_edge(\"push\", END)\n",
    "\n",
    "graph = graph_builder.compile()"
   ]
  },
  {
   "cell_type": "code",
   "execution_count": 61,
   "metadata": {},
   "outputs": [
    {
     "data": {
      "image/png": "[encoded data removed]",
      "text/plain": [
       "<IPython.core.display.Image object>"
      ]
     },
     "metadata": {},
     "output_type": "display_data"
    }
   ],
   "source": [
    "display(Image(graph.get_graph().draw_mermaid_png()))"
   ]
  },
  {
   "cell_type": "code",
   "execution_count": 62,
   "metadata": {},
   "outputs": [],
   "source": [
    "# === Gradio UI ===\n",
    "def chat(user_input: str, history):\n",
    "    try:\n",
    "        messages = [{\"role\": \"user\", \"content\": user_input}]\n",
    "        result = graph.invoke({\"messages\": messages, \"intent\": \"\", \"push_text\": \"\"})\n",
    "        return result[\"messages\"][-1][\"content\"]\n",
    "    except Exception as e:\n",
    "        traceback.print_exc()\n",
    "        return f\"❌ Error: {str(e)}\""
   ]
  },
  {
   "cell_type": "code",
   "execution_count": 63,
   "metadata": {},
   "outputs": [
    {
     "name": "stdout",
     "output_type": "stream",
     "text": [
      "* Running on local URL:  http://127.0.0.1:7864\n",
      "* To create a public link, set `share=True` in `launch()`.\n"
     ]
    },
    {
     "data": {
      "text/html": [
       "<div><iframe src=\"http://127.0.0.1:7864/\" width=\"100%\" height=\"500\" allow=\"autoplay; camera; microphone; clipboard-read; clipboard-write;\" frameborder=\"0\" allowfullscreen></iframe></div>"
      ],
      "text/plain": [
       "<IPython.core.display.HTML object>"
      ]
     },
     "metadata": {},
     "output_type": "display_data"
    },
    {
     "data": {
      "text/plain": []
     },
     "execution_count": 63,
     "metadata": {},
     "output_type": "execute_result"
    },
    {
     "name": "stderr",
     "output_type": "stream",
     "text": [
      "Traceback (most recent call last):\n",
      "  File \"/var/folders/q3/zw37twcs0938w_n3bzj65f9m0000gn/T/ipykernel_54384/119586107.py\", line 5, in chat\n",
      "    result = graph.invoke({\"messages\": messages, \"intent\": \"\", \"push_text\": \"\"})\n",
      "             ^^^^^^^^^^^^^^^^^^^^^^^^^^^^^^^^^^^^^^^^^^^^^^^^^^^^^^^^^^^^^^^^^^^\n",
      "  File \"/Users/vpb/.pyenv/versions/genai12/lib/python3.12/site-packages/langgraph/pregel/__init__.py\", line 2719, in invoke\n",
      "    for chunk in self.stream(\n",
      "                 ^^^^^^^^^^^^\n",
      "  File \"/Users/vpb/.pyenv/versions/genai12/lib/python3.12/site-packages/langgraph/pregel/__init__.py\", line 2436, in stream\n",
      "    for _ in runner.tick(\n",
      "             ^^^^^^^^^^^^\n",
      "  File \"/var/folders/q3/zw37twcs0938w_n3bzj65f9m0000gn/T/ipykernel_54384/1367391868.py\", line 55, in llm_node\n",
      "    last_user_msg = state[\"messages\"][-2][\"content\"].lower()\n",
      "                    ~~~~~~~~~~~~~~~~~~~~~^^^^^^^^^^^\n",
      "TypeError: 'HumanMessage' object is not subscriptable\n",
      "During task with name 'llm' and id 'c54cd5dd-291d-29e1-8f5f-f62ed9b2bdfb'\n"
     ]
    }
   ],
   "source": [
    "gr.ChatInterface(chat, type=\"messages\").launch()"
   ]
  },
  {
   "cell_type": "code",
   "execution_count": null,
   "metadata": {},
   "outputs": [],
   "source": []
  }
 ],
 "metadata": {
  "kernelspec": {
   "display_name": "Python 3 (ipykernel)",
   "language": "python",
   "name": "python3"
  },
  "language_info": {
   "codemirror_mode": {
    "name": "ipython",
    "version": 3
   },
   "file_extension": ".py",
   "mimetype": "text/x-python",
   "name": "python",
   "nbconvert_exporter": "python",
   "pygments_lexer": "ipython3",
   "version": "3.12.10"
  }
 },
 "nbformat": 4,
 "nbformat_minor": 4
}
