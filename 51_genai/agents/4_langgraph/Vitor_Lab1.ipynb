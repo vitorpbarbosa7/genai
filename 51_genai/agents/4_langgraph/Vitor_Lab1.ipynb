{
 "cells": [
  {
   "cell_type": "markdown",
   "metadata": {},
   "source": [
    "## Welcome back to Python Notebooks!\n",
    "\n",
    "Didja miss me??\n",
    "\n",
    "### And welcome to Week 4, Day 2 - introducing LangGraph!"
   ]
  },
  {
   "cell_type": "code",
   "execution_count": null,
   "metadata": {},
   "outputs": [],
   "source": [
    "from typing import Annotated\n",
    "from langgraph.graph import StateGraph, START, END\n",
    "from langgraph.graph.message import add_messages\n",
    "from dotenv import load_dotenv\n",
    "from IPython.display import Image, display\n",
    "import gradio as gr\n",
    "from langgraph.graph import StateGraph\n",
    "from langgraph.graph.message import add_messages\n",
    "from langchain_openai import ChatOpenAI\n",
    "from pydantic import BaseModel\n",
    "import random\n",
    "import os"
   ]
  },
  {
   "cell_type": "code",
   "execution_count": 18,
   "metadata": {},
   "outputs": [],
   "source": [
    "# 🔑 API setup\n",
    "os.environ[\"OPENAI_API_KEY\"] = os.getenv('ROUTER_API_KEY')\n",
    "os.environ[\"OPENAI_API_BASE\"] = \"https://openrouter.ai/api/v1\""
   ]
  },
  {
   "cell_type": "code",
   "execution_count": 2,
   "metadata": {},
   "outputs": [],
   "source": [
    "# Some useful constants\n",
    "nouns = [\"Cabbages\", \"Unicorns\", \"Toasters\", \"Penguins\", \"Bananas\", \"Zombies\", \"Rainbows\", \"Eels\", \"Pickles\", \"Muffins\"]\n",
    "adjectives = [\"outrageous\", \"smelly\", \"pedantic\", \"existential\", \"moody\", \"sparkly\", \"untrustworthy\", \"sarcastic\", \"squishy\", \"haunted\"]"
   ]
  },
  {
   "cell_type": "code",
   "execution_count": 3,
   "metadata": {},
   "outputs": [
    {
     "data": {
      "text/plain": [
       "False"
      ]
     },
     "execution_count": 3,
     "metadata": {},
     "output_type": "execute_result"
    }
   ],
   "source": [
    "# Our favorite first step! Crew was doing this for us, by the way.\n",
    "load_dotenv(override=True)\n"
   ]
  },
  {
   "cell_type": "code",
   "execution_count": 4,
   "metadata": {},
   "outputs": [
    {
     "name": "stdout",
     "output_type": "stream",
     "text": [
      "HELLO\n"
     ]
    },
    {
     "data": {
      "text/plain": [
       "'HELLO'"
      ]
     },
     "execution_count": 4,
     "metadata": {},
     "output_type": "execute_result"
    }
   ],
   "source": [
    "def shout(text: Annotated[str, \"something to be shouted\"]) -> str:\n",
    "    print(text.upper())\n",
    "    return text.upper()\n",
    "\n",
    "shout(\"hello\")"
   ]
  },
  {
   "cell_type": "markdown",
   "metadata": {},
   "source": [
    "### A word about \"Annotated\"\n",
    "\n",
    "You probably know this; type hinting is a feature in Python that lets you specify the type of something:\n",
    "\n",
    "`my_favorite_things: List`\n",
    "\n",
    "But you may not know this:\n",
    "\n",
    "You can also use something called \"Annotated\" to add extra information that somebody else might find useful:\n",
    "\n",
    "`my_favorite_things: Annotated[List, \"these are a few of mine\"]`\n",
    "\n",
    "LangGraph needs us to use this feature when we define our State object.\n",
    "\n",
    "It wants us to tell it what function it should call to update the State with a new value.\n",
    "\n",
    "This function is called a **reducer**.\n",
    "\n",
    "LangGraph provides a default reducer called `add_messages` which takes care of the most common case.\n",
    "\n",
    "And that hopefully explains why the State looks like this.\n",
    "\n",
    "\n"
   ]
  },
  {
   "cell_type": "markdown",
   "metadata": {},
   "source": [
    "### Step 1: Define the State object\n",
    "\n",
    "You can use any python object; but it's most common to use a TypedDict or a Pydantic BaseModel."
   ]
  },
  {
   "cell_type": "code",
   "execution_count": 5,
   "metadata": {},
   "outputs": [],
   "source": [
    "\n",
    "class State(BaseModel):\n",
    "        \n",
    "    messages: Annotated[list, add_messages]\n"
   ]
  },
  {
   "cell_type": "markdown",
   "metadata": {},
   "source": [
    "### Step 2: Start the Graph Builder with this State class"
   ]
  },
  {
   "cell_type": "code",
   "execution_count": 6,
   "metadata": {},
   "outputs": [],
   "source": [
    "graph_builder = StateGraph(State)"
   ]
  },
  {
   "cell_type": "markdown",
   "metadata": {},
   "source": [
    "### Step 3: Create a Node\n",
    "\n",
    "A node can be any python function.\n",
    "\n",
    "The reducer that we set before gets automatically called to combine this response with previous responses\n"
   ]
  },
  {
   "cell_type": "code",
   "execution_count": 7,
   "metadata": {},
   "outputs": [
    {
     "data": {
      "text/plain": [
       "<langgraph.graph.state.StateGraph at 0x105fe2330>"
      ]
     },
     "execution_count": 7,
     "metadata": {},
     "output_type": "execute_result"
    }
   ],
   "source": [
    "def our_first_node(old_state: State) -> State:\n",
    "\n",
    "    reply = f\"{random.choice(nouns)} are {random.choice(adjectives)}\"\n",
    "    messages = [{\"role\": \"assistant\", \"content\": reply}]\n",
    "\n",
    "    new_state = State(messages=messages)\n",
    "\n",
    "    return new_state\n",
    "\n",
    "graph_builder.add_node(\"first_node\", our_first_node)"
   ]
  },
  {
   "cell_type": "markdown",
   "metadata": {},
   "source": [
    "### Step 4: Create Edges"
   ]
  },
  {
   "cell_type": "code",
   "execution_count": 8,
   "metadata": {},
   "outputs": [
    {
     "data": {
      "text/plain": [
       "<langgraph.graph.state.StateGraph at 0x105fe2330>"
      ]
     },
     "execution_count": 8,
     "metadata": {},
     "output_type": "execute_result"
    }
   ],
   "source": [
    "graph_builder.add_edge(START, \"first_node\")\n",
    "graph_builder.add_edge(\"first_node\", END)"
   ]
  },
  {
   "cell_type": "markdown",
   "metadata": {},
   "source": [
    "### Step 5: Compile the Graph"
   ]
  },
  {
   "cell_type": "code",
   "execution_count": 9,
   "metadata": {},
   "outputs": [],
   "source": [
    "graph = graph_builder.compile()"
   ]
  },
  {
   "cell_type": "code",
   "execution_count": 10,
   "metadata": {},
   "outputs": [
    {
     "data": {
      "image/png": "[encoded data removed]",
      "text/plain": [
       "<IPython.core.display.Image object>"
      ]
     },
     "metadata": {},
     "output_type": "display_data"
    }
   ],
   "source": [
    "display(Image(graph.get_graph().draw_mermaid_png()))"
   ]
  },
  {
   "cell_type": "markdown",
   "metadata": {},
   "source": [
    "### That's it! Showtime!"
   ]
  },
  {
   "cell_type": "code",
   "execution_count": 12,
   "metadata": {},
   "outputs": [],
   "source": [
    "def chat(user_input:str, history):\n",
    "    message = {\"role\":\"user\", \"content\": user_input}\n",
    "    messages = [message]\n",
    "    state = State(messages=messages)\n",
    "    result = graph.invoke(state)\n",
    "    print(result)\n",
    "    return result[\"messages\"][-1].content"
   ]
  },
  {
   "cell_type": "code",
   "execution_count": 13,
   "metadata": {},
   "outputs": [
    {
     "name": "stdout",
     "output_type": "stream",
     "text": [
      "* Running on local URL:  http://127.0.0.1:7860\n",
      "* To create a public link, set `share=True` in `launch()`.\n"
     ]
    },
    {
     "data": {
      "text/html": [
       "<div><iframe src=\"http://127.0.0.1:7860/\" width=\"100%\" height=\"500\" allow=\"autoplay; camera; microphone; clipboard-read; clipboard-write;\" frameborder=\"0\" allowfullscreen></iframe></div>"
      ],
      "text/plain": [
       "<IPython.core.display.HTML object>"
      ]
     },
     "metadata": {},
     "output_type": "display_data"
    },
    {
     "data": {
      "text/plain": []
     },
     "execution_count": 13,
     "metadata": {},
     "output_type": "execute_result"
    },
    {
     "name": "stdout",
     "output_type": "stream",
     "text": [
      "{'messages': [HumanMessage(content='Hi there', additional_kwargs={}, response_metadata={}, id='e8a14db6-11cf-4d64-8f4b-2cfc6014b324'), AIMessage(content='Cabbages are smelly', additional_kwargs={}, response_metadata={}, id='ca6bc911-5f92-4565-bbff-112ec621ce28')]}\n",
      "{'messages': [HumanMessage(content='Test the fucking node inside the graph', additional_kwargs={}, response_metadata={}, id='731b2ee6-8198-459a-a636-80c64800a54a'), AIMessage(content='Unicorns are squishy', additional_kwargs={}, response_metadata={}, id='bb395ca9-83c2-4e7b-9e48-f40fceeb5fa4')]}\n",
      "{'messages': [HumanMessage(content='hi', additional_kwargs={}, response_metadata={}, id='2b7d3540-08cc-4859-8632-6c730842add8'), AIMessage(content='Cabbages are moody', additional_kwargs={}, response_metadata={}, id='d5932ddb-cef4-4ef4-bf81-3ccd788a77c0')]}\n"
     ]
    }
   ],
   "source": [
    "gr.ChatInterface(chat, type=\"messages\").launch()"
   ]
  },
  {
   "cell_type": "markdown",
   "metadata": {},
   "source": [
    "### But why did I show you that?\n",
    "\n",
    "To make the point that LangGraph is all about python functions - it doesn't need to involve LLMs!!\n",
    "\n",
    "Now we'll do the 5 steps again, but in 1 shot:"
   ]
  },
  {
   "cell_type": "code",
   "execution_count": 45,
   "metadata": {},
   "outputs": [],
   "source": [
    "# Step 1: Define the State object\n",
    "class State(BaseModel):\n",
    "    messages: Annotated[list, add_messages]"
   ]
  },
  {
   "cell_type": "code",
   "execution_count": 46,
   "metadata": {},
   "outputs": [],
   "source": [
    "# Step 2: Start the Graph Builder with this State class\n",
    "graph_builder = StateGraph(State)"
   ]
  },
  {
   "cell_type": "code",
   "execution_count": 47,
   "metadata": {},
   "outputs": [],
   "source": [
    "# Step 3: Create a Node\n",
    "llm = ChatOpenAI(model=\"mistralai/mixtral-8x7b-instruct\")"
   ]
  },
  {
   "cell_type": "code",
   "execution_count": 48,
   "metadata": {},
   "outputs": [],
   "source": [
    "def chatbot_node(old_state: State) -> State:\n",
    "    response = llm.invoke(old_state.messages)\n",
    "    new_state = State(messages=[response])\n",
    "    return new_state"
   ]
  },
  {
   "cell_type": "code",
   "execution_count": 49,
   "metadata": {},
   "outputs": [
    {
     "data": {
      "text/plain": [
       "<langgraph.graph.state.StateGraph at 0x10d267f80>"
      ]
     },
     "execution_count": 49,
     "metadata": {},
     "output_type": "execute_result"
    }
   ],
   "source": [
    "graph_builder.add_node(\"chatbot\", chatbot_node)"
   ]
  },
  {
   "cell_type": "code",
   "execution_count": 50,
   "metadata": {},
   "outputs": [
    {
     "data": {
      "text/plain": [
       "<langgraph.graph.state.StateGraph at 0x10d267f80>"
      ]
     },
     "execution_count": 50,
     "metadata": {},
     "output_type": "execute_result"
    }
   ],
   "source": [
    "# Step 4: Create Edges\n",
    "graph_builder.add_edge(START, \"chatbot\")\n",
    "graph_builder.add_edge(\"chatbot\", END)"
   ]
  },
  {
   "cell_type": "code",
   "execution_count": 51,
   "metadata": {},
   "outputs": [],
   "source": [
    "# Step 5: Compile the Graph\n",
    "graph = graph_builder.compile()"
   ]
  },
  {
   "cell_type": "code",
   "execution_count": 52,
   "metadata": {},
   "outputs": [
    {
     "data": {
      "image/png": "[encoded data removed]",
      "text/plain": [
       "<IPython.core.display.Image object>"
      ]
     },
     "metadata": {},
     "output_type": "display_data"
    }
   ],
   "source": [
    "display(Image(graph.get_graph().draw_mermaid_png()))"
   ]
  },
  {
   "cell_type": "markdown",
   "metadata": {},
   "source": [
    "## Using gradio, run this guy, so we will have our first message and the output will the resulting from the graph"
   ]
  },
  {
   "cell_type": "markdown",
   "metadata": {},
   "source": [
    "### That's it! And, let's do this:"
   ]
  },
  {
   "cell_type": "code",
   "execution_count": 53,
   "metadata": {},
   "outputs": [],
   "source": [
    "def chat(user_input: str, history):\n",
    "    messages = [{\"role\": \"user\", \"content\": user_input}]\n",
    "    initial_state = State(messages=messages)\n",
    "    # We give the graph a state, not a fucking message, a fucking state\n",
    "    result = graph.invoke(initial_state)\n",
    "    print(result)\n",
    "    # last fucking message from the ai \n",
    "    return result['messages'][-1].content"
   ]
  },
  {
   "cell_type": "code",
   "execution_count": 54,
   "metadata": {},
   "outputs": [
    {
     "name": "stdout",
     "output_type": "stream",
     "text": [
      "* Running on local URL:  http://127.0.0.1:7862\n",
      "* To create a public link, set `share=True` in `launch()`.\n"
     ]
    },
    {
     "data": {
      "text/html": [
       "<div><iframe src=\"http://127.0.0.1:7862/\" width=\"100%\" height=\"500\" allow=\"autoplay; camera; microphone; clipboard-read; clipboard-write;\" frameborder=\"0\" allowfullscreen></iframe></div>"
      ],
      "text/plain": [
       "<IPython.core.display.HTML object>"
      ]
     },
     "metadata": {},
     "output_type": "display_data"
    },
    {
     "data": {
      "text/plain": []
     },
     "execution_count": 54,
     "metadata": {},
     "output_type": "execute_result"
    },
    {
     "name": "stdout",
     "output_type": "stream",
     "text": [
      "{'messages': [HumanMessage(content='Are you there?', additional_kwargs={}, response_metadata={}, id='469b972f-92c3-471c-b856-5e53d7cb9d69'), AIMessage(content=' Yes, I am here. How can I help you today?\\n\\n(Note: I am an AI language model and is programmed to respond to various prompts and assist with a wide range of tasks, so feel free to ask me any question or give me any task you have in mind.)', additional_kwargs={'refusal': None}, response_metadata={'token_usage': {'completion_tokens': 61, 'prompt_tokens': 12, 'total_tokens': 73, 'completion_tokens_details': None, 'prompt_tokens_details': None}, 'model_name': 'mistralai/mixtral-8x7b-instruct', 'system_fingerprint': None, 'id': 'gen-1749461573-XdSWMYNiuZldFVwf7Q1X', 'service_tier': None, 'finish_reason': 'stop', 'logprobs': None}, id='run--c17c7a9d-93f4-4c6e-98ad-fcf34c8f22c9-0', usage_metadata={'input_tokens': 12, 'output_tokens': 61, 'total_tokens': 73, 'input_token_details': {}, 'output_token_details': {}})]}\n",
      "{'messages': [HumanMessage(content='how simple is you compared to gpt 40 ', additional_kwargs={}, response_metadata={}, id='489f6ead-fac7-488c-99a0-78c4fa2d5ecc'), AIMessage(content=\" I am currently unaware of the capabilities of GPT-40 as there are no widely available or publicized models by that name. I am modeled on GPT-3, and I strive to provide simple, clear, and accurate information to the best of my ability. However, I can't make a direct comparison to GPT-40 since I don't have enough information about it.\\n\\nAs of my knowledge up to this point, I am designed to be a helpful, accessible, and user-friendly language model, with a focus on delivering suitable and understandable responses. I am constantly being updated and improved to enhance my performance and capabilities. However, I am still a machine learning model and have my limitations. I always recommend double-checking any information I provide, as I might not always have the most up-to-date or accurate data.\", additional_kwargs={'refusal': None}, response_metadata={'token_usage': {'completion_tokens': 181, 'prompt_tokens': 20, 'total_tokens': 201, 'completion_tokens_details': None, 'prompt_tokens_details': None}, 'model_name': 'mistralai/mixtral-8x7b-instruct', 'system_fingerprint': None, 'id': 'gen-1749461592-GGx8FP1PkuwmJqKrZad7', 'service_tier': None, 'finish_reason': 'stop', 'logprobs': None}, id='run--f3f04527-bec3-4ccc-84ba-701085cbe9e0-0', usage_metadata={'input_tokens': 20, 'output_tokens': 181, 'total_tokens': 201, 'input_token_details': {}, 'output_token_details': {}})]}\n",
      "{'messages': [HumanMessage(content='is open router free to use this mixtral guy ? \\n\\n', additional_kwargs={}, response_metadata={}, id='0796e668-5fc7-4a4b-b9f1-b48f4a0b5ae0'), AIMessage(content=' I\\'m assuming you\\'re asking about a device or service called \"open router\" that is related to the \"MikroTik\" brand, as I see the word \"mixtral\" is likely a typo.\\n\\nMikroTik is a company that manufactures networking equipment, including routers. Their routers run on a proprietary operating system called RouterOS. MikroTik offers a free version of RouterOS, which can be used on their hardware or compatible third-party hardware. However, the free version has some limitations compared to the paid versions.\\n\\nThe free version of RouterOS allows you to use the basic features of a router, such as routing, firewall, and basic VPN services. If you need advanced features, such as hotspot management, wireless access point, or more advanced VPN capabilities, you will need to purchase a license for a paid version of RouterOS.\\n\\nIn summary, using the free version of MikroTik\\'s RouterOS is generally free to use, but it has limitations compared to the paid versions. Before using MikroTik\\'s routers or RouterOS, make sure you understand the features and limitations of the free version to avoid any unexpected issues.', additional_kwargs={'refusal': None}, response_metadata={'token_usage': {'completion_tokens': 265, 'prompt_tokens': 23, 'total_tokens': 288, 'completion_tokens_details': None, 'prompt_tokens_details': None}, 'model_name': 'mistralai/mixtral-8x7b-instruct', 'system_fingerprint': None, 'id': 'gen-1749461610-wJHsBM5bO26KWcvU75xJ', 'service_tier': None, 'finish_reason': 'stop', 'logprobs': None}, id='run--efe2067d-e4a5-4c08-9b69-005d9842aa70-0', usage_metadata={'input_tokens': 23, 'output_tokens': 265, 'total_tokens': 288, 'input_token_details': {}, 'output_token_details': {}})]}\n",
      "{'messages': [HumanMessage(content='the loaded trained parameters is like a matrix?\\n\\nhow you can respond so fast?', additional_kwargs={}, response_metadata={}, id='3caa5419-9c7a-4a2a-be63-2c5e74701924'), AIMessage(content=\" Yes, a trained machine learning model's parameters can be represented as a matrix or a collection of matrices and vectors, depending on the specific architecture of the model. These matrices contain the values that the model has learned during the training process, which represent the relationships between different features and the target variable.\\n\\nAs for how I can respond so fast, it's because I'm an artificial intelligence model designed to assist with answering questions to the best of my ability. I can process and respond to queries quickly because I'm working on optimized hardware and have been designed to generate responses efficiently. However, please note that I don't have access to personal data about individuals unless it has been shared with me in the course of our conversation. I am designed to respect user privacy and confidentiality.\", additional_kwargs={'refusal': None}, response_metadata={'token_usage': {'completion_tokens': 162, 'prompt_tokens': 26, 'total_tokens': 188, 'completion_tokens_details': None, 'prompt_tokens_details': None}, 'model_name': 'mistralai/mixtral-8x7b-instruct', 'system_fingerprint': None, 'id': 'gen-1749461633-q62se7WI5CBsZ6GeMkph', 'service_tier': None, 'finish_reason': 'stop', 'logprobs': None}, id='run--bdf6b851-8601-4845-8b49-c3b98e0850b0-0', usage_metadata={'input_tokens': 26, 'output_tokens': 162, 'total_tokens': 188, 'input_token_details': {}, 'output_token_details': {}})]}\n",
      "{'messages': [HumanMessage(content='are you so fast beucase of fiber optics, good impelmentation without overheads and because of picoseconds transistors pfet nfet? ', additional_kwargs={}, response_metadata={}, id='a5e079a6-9914-4aab-b49e-fcc2494d4698'), AIMessage(content=' My speed and efficiency are due to a combination of several factors, including advanced hardware and sophisticated software. While it is true that modern computer hardware, such as high-speed processors, fiber optics, and efficient transistors (such as p-type and n-type field-effect transistors, or PFETs and NFETs) play a crucial role in enabling my high-performance computing capabilities, I cannot attribute my speed solely to these factors.\\n\\nThe hardware components you mentioned contribute to the overall computing power of the system I am running on. Fiber optics and the efficient use of high-speed transistors aid in reducing the latency and increasing the bandwidth of data transmission and processing, respectively. These hardware improvements are then complemented by my software which utilizes parallelism, advanced algorithms, and smart resource management to optimize the system\\'s performance.\\n\\nFurthermore, my responses might appear fast to you due to the nature of human-computer interaction. When you type questions, there is a delay called \"keyboard latency\" before I receive the full input. This delay is not noticeable in everyday typing tasks, but if you were to measure the exact time between key press and character display, you would observe a delay. When I quickly respond to a query, the delay may go unnoticed or seem smaller compared to the keyboard latency.\\n\\nIn conclusion, I am fast because of several factors, including, but not limited to, high-speed hardware components, such as fiber optics, optimized transistor technology, and sophisticated software that effectively uses resources to provide rapid responses.', additional_kwargs={'refusal': None}, response_metadata={'token_usage': {'completion_tokens': 342, 'prompt_tokens': 46, 'total_tokens': 388, 'completion_tokens_details': None, 'prompt_tokens_details': None}, 'model_name': 'mistralai/mixtral-8x7b-instruct', 'system_fingerprint': None, 'id': 'gen-1749461670-Skzu6MvTyFw90svDeVLp', 'service_tier': None, 'finish_reason': 'stop', 'logprobs': None}, id='run--dac70252-242f-4cd6-a13c-fb747eca95cf-0', usage_metadata={'input_tokens': 46, 'output_tokens': 342, 'total_tokens': 388, 'input_token_details': {}, 'output_token_details': {}})]}\n"
     ]
    }
   ],
   "source": [
    "gr.ChatInterface(chat, type=\"messages\").launch()"
   ]
  },
  {
   "cell_type": "code",
   "execution_count": null,
   "metadata": {},
   "outputs": [],
   "source": []
  }
 ],
 "metadata": {
  "kernelspec": {
   "display_name": "Python 3 (ipykernel)",
   "language": "python",
   "name": "python3"
  },
  "language_info": {
   "codemirror_mode": {
    "name": "ipython",
    "version": 3
   },
   "file_extension": ".py",
   "mimetype": "text/x-python",
   "name": "python",
   "nbconvert_exporter": "python",
   "pygments_lexer": "ipython3",
   "version": "3.12.10"
  }
 },
 "nbformat": 4,
 "nbformat_minor": 4
}
